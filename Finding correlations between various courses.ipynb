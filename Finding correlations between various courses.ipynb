{
 "cells": [
  {
   "cell_type": "code",
   "execution_count": 96,
   "metadata": {},
   "outputs": [],
   "source": [
    "#Code to install seaborn in case it is not already installed on the system. I commented it out because I already installed it.\n",
    "\n",
    "#!pip install seaborn"
   ]
  },
  {
   "cell_type": "code",
   "execution_count": 97,
   "metadata": {},
   "outputs": [],
   "source": [
    "#Importing packages for programming\n",
    "\n",
    "import pandas as pd  # data frame operations  \n",
    "import numpy as np  # arrays and math functions\n",
    "import matplotlib.pyplot as plt  # static plotting\n",
    "import seaborn as sns  # pretty plotting, including heat map"
   ]
  },
  {
   "cell_type": "code",
   "execution_count": 98,
   "metadata": {},
   "outputs": [],
   "source": [
    "# correlation heat map setup for seaborn\n",
    "def corr_chart(df_corr):\n",
    "    corr=df_corr.corr()\n",
    "    #screen top half to get a triangle\n",
    "    top = np.zeros_like(corr, dtype=np.bool)\n",
    "    top[np.triu_indices_from(top)] = True\n",
    "    fig=plt.figure()\n",
    "    fig, ax = plt.subplots(figsize=(12,12))\n",
    "    sns.heatmap(corr, mask=top, cmap='coolwarm', \n",
    "        center = 0, square=True, \n",
    "        linewidths=.5, cbar_kws={'shrink':.5}, \n",
    "        annot = True, annot_kws={'size': 9}, fmt = '.3f')           \n",
    "    plt.xticks(rotation=45) # rotate variable labels on columns (x axis)\n",
    "    plt.yticks(rotation=0) # use horizontal variable labels on rows (y axis)\n",
    "    plt.title('Correlation Heat Map')   \n",
    "    plt.savefig('plot-corr-map.pdf', \n",
    "        bbox_inches = 'tight', dpi=None, facecolor='w', edgecolor='b', \n",
    "        orientation='portrait', papertype=None, format=None, \n",
    "        transparent=True, pad_inches=0.25, frameon=None)      \n",
    "\n",
    "np.set_printoptions(precision=3)"
   ]
  },
  {
   "cell_type": "code",
   "execution_count": 99,
   "metadata": {},
   "outputs": [],
   "source": [
    "# read in comma-delimited text file, creating a pandas DataFrame object\n",
    "valid_survey_input = pd.read_csv('mspa-survey-data.csv')"
   ]
  },
  {
   "cell_type": "code",
   "execution_count": 100,
   "metadata": {},
   "outputs": [
    {
     "name": "stdout",
     "output_type": "stream",
     "text": [
      "\n",
      "Contents of initial survey data ---------------\n"
     ]
    }
   ],
   "source": [
    "# use the RespondentID as label for the rows... the index of DataFrame\n",
    "valid_survey_input.set_index('RespondentID', drop = True, inplace = True)\n",
    "\n",
    "# examine the structure of the DataFrame object\n",
    "print('\\nContents of initial survey data ---------------')"
   ]
  },
  {
   "cell_type": "code",
   "execution_count": 101,
   "metadata": {},
   "outputs": [
    {
     "name": "stdout",
     "output_type": "stream",
     "text": [
      "\n",
      "Number of Respondents = 207\n"
     ]
    }
   ],
   "source": [
    "# could use len() or first index of shape() to get number of rows/observations\n",
    "print('\\nNumber of Respondents =', len(valid_survey_input)) "
   ]
  },
  {
   "cell_type": "code",
   "execution_count": 102,
   "metadata": {},
   "outputs": [
    {
     "name": "stdout",
     "output_type": "stream",
     "text": [
      "Index(['Personal_JavaScalaSpark', 'Personal_JavaScriptHTMLCSS',\n",
      "       'Personal_Python', 'Personal_R', 'Personal_SAS',\n",
      "       'Professional_JavaScalaSpark', 'Professional_JavaScriptHTMLCSS',\n",
      "       'Professional_Python', 'Professional_R', 'Professional_SAS',\n",
      "       'Industry_JavaScalaSpark', 'Industry_JavaScriptHTMLCSS',\n",
      "       'Industry_Python', 'Industry_R', 'Industry_SAS',\n",
      "       'Python_Course_Interest', 'Foundations_DE_Course_Interest',\n",
      "       'Analytics_App_Course_Interest', 'Systems_Analysis_Course_Interest',\n",
      "       'Courses_Completed', 'PREDICT400', 'PREDICT401', 'PREDICT410',\n",
      "       'PREDICT411', 'PREDICT413', 'PREDICT420', 'PREDICT422', 'PREDICT450',\n",
      "       'PREDICT451', 'PREDICT452', 'PREDICT453', 'PREDICT454', 'PREDICT455',\n",
      "       'PREDICT456', 'PREDICT457', 'OtherPython', 'OtherR', 'OtherSAS',\n",
      "       'Other', 'Graduate_Date'],\n",
      "      dtype='object')\n"
     ]
    }
   ],
   "source": [
    "# show the column/variable names of the DataFrame\n",
    "# note that RespondentID is no longer present\n",
    "# D - This is because we set the RespondentID as index and set the Drop option to True.\n",
    "\n",
    "print(valid_survey_input.columns)"
   ]
  },
  {
   "cell_type": "code",
   "execution_count": 166,
   "metadata": {},
   "outputs": [],
   "source": [
    "# abbreviated printing of the first five rows of the data frame\n",
    "#D - Commenting this out because its not needed\n",
    "# print(pd.DataFrame.head(valid_survey_input))"
   ]
  },
  {
   "cell_type": "code",
   "execution_count": 104,
   "metadata": {},
   "outputs": [],
   "source": [
    "# shorten the variable/column names for software preference variables\n",
    "#D - included columns for potential course interests\n",
    "survey_df = valid_survey_input.rename(index=str, columns={\n",
    "    'Personal_JavaScalaSpark': 'My_Java',\n",
    "    'Personal_JavaScriptHTMLCSS': 'My_JS',\n",
    "    'Personal_Python': 'My_Python',\n",
    "    'Personal_R': 'My_R',\n",
    "    'Personal_SAS': 'My_SAS',\n",
    "    'Professional_JavaScalaSpark': 'Prof_Java',\n",
    "    'Professional_JavaScriptHTMLCSS': 'Prof_JS',\n",
    "    'Professional_Python': 'Prof_Python',\n",
    "    'Professional_R': 'Prof_R',\n",
    "    'Professional_SAS': 'Prof_SAS',\n",
    "    'Industry_JavaScalaSpark': 'Ind_Java',\n",
    "    'Industry_JavaScriptHTMLCSS': 'Ind_JS',\n",
    "    'Industry_Python': 'Ind_Python',\n",
    "    'Industry_R': 'Ind_R',\n",
    "    'Industry_SAS': 'Ind_SAS',\n",
    "    'Python_Course_Interest': 'Python_Int',\n",
    "    'Foundations_DE_Course_Interest': 'FoundDE_Int',\n",
    "    'Analytics_App_Course_Interest': 'Analytics_Int',\n",
    "    'Systems_Analysis_Course_Interest': 'System_Analytics_Int'})\n",
    "\n",
    "# define subset DataFrame for analysis of software preferences \n",
    "software_df = survey_df.loc[:, 'My_Java':'Ind_SAS']\n",
    "\n",
    "#D - define subset DataFrame for analysis of potential course interests\n",
    "course_int_df = survey_df.loc[:, 'Python_Int':'System_Analytics_Int']"
   ]
  },
  {
   "cell_type": "code",
   "execution_count": 167,
   "metadata": {
    "scrolled": false
   },
   "outputs": [],
   "source": [
    "survey_df_labels = [\n",
    "    'Personal Preference for Java/Scala/Spark',\n",
    "    'Personal Preference for Java/Script/HTML/CSS',\n",
    "    'Personal Preference for Python',\n",
    "    'Personal Preference for R',\n",
    "    'Personal Preference for SAS',\n",
    "    'Professional Java/Scala/Spark',\n",
    "    'Professional JavaScript/HTML/CSS',\n",
    "    'Professional Python',\n",
    "    'Professional R',\n",
    "    'Professional SAS',\n",
    "    'Industry Java/Scala/Spark',\n",
    "    'Industry Java/Script/HTML/CSS',\n",
    "    'Industry Python',\n",
    "    'Industry R',\n",
    "    'Industry SAS'        \n",
    "]    \n",
    "\n",
    "#create a set of scatter plots for personal preferences. \n",
    "#D - Commenting this out because its not needed\n",
    "\n",
    "#for i in range(5):\n",
    "#    for j in range(5):\n",
    "#        if i != j:\n",
    "#            file_title = survey_df.columns[i] + '_and_' + survey_df.columns[j]\n",
    "#            plot_title = survey_df.columns[i] + ' and ' + survey_df.columns[j]\n",
    "#            fig, axis = plt.subplots()\n",
    "#            axis.set_xlabel(survey_df_labels[i])\n",
    "#            axis.set_ylabel(survey_df_labels[j])\n",
    "#            plt.title(plot_title)\n",
    "#            scatter_plot = axis.scatter(survey_df[survey_df.columns[i]], \n",
    "#            survey_df[survey_df.columns[j]],\n",
    "#            facecolors = 'yellow', \n",
    "#            edgecolors = 'olive') \n",
    "#            plt.savefig(file_title + '.pdf', \n",
    "#                bbox_inches = 'tight', dpi=None, facecolor='w', edgecolor='b', \n",
    "#                orientation='portrait', papertype=None, format=None, \n",
    "#                transparent=True, pad_inches=0.25, frameon=None)"
   ]
  },
  {
   "cell_type": "code",
   "execution_count": 106,
   "metadata": {},
   "outputs": [
    {
     "data": {
      "text/plain": [
       "<Figure size 432x288 with 0 Axes>"
      ]
     },
     "metadata": {},
     "output_type": "display_data"
    },
    {
     "data": {
      "image/png": "[encoded data removed]",
      "text/plain": [
       "<Figure size 864x864 with 2 Axes>"
      ]
     },
     "metadata": {
      "needs_background": "light"
     },
     "output_type": "display_data"
    }
   ],
   "source": [
    "# examine intercorrelations among software preference variables\n",
    "# with correlation matrix/heat map\n",
    "\n",
    "corr_chart(df_corr = software_df) "
   ]
  },
  {
   "cell_type": "code",
   "execution_count": 107,
   "metadata": {},
   "outputs": [
    {
     "name": "stdout",
     "output_type": "stream",
     "text": [
      "\n",
      "Descriptive statistics for survey data ---------------\n",
      "          My_Java       My_JS   My_Python        My_R      My_SAS   Prof_Java  \\\n",
      "count  207.000000  207.000000  207.000000  207.000000  207.000000  207.000000   \n",
      "mean    10.135266    4.797101   31.304348   37.125604   16.637681    9.251208   \n",
      "std     11.383477    6.757764   15.570982   14.576003   13.626400   13.167505   \n",
      "min      0.000000    0.000000    0.000000    0.000000    0.000000    0.000000   \n",
      "25%      0.000000    0.000000   20.000000   30.000000    5.000000    0.000000   \n",
      "50%      9.000000    0.000000   30.000000   35.000000   15.000000    5.000000   \n",
      "75%     20.000000   10.000000   40.000000   50.000000   25.000000   15.000000   \n",
      "max     70.000000   30.000000   90.000000  100.000000   75.000000   80.000000   \n",
      "\n",
      "          Prof_JS  Prof_Python      Prof_R    Prof_SAS    Ind_Java  \\\n",
      "count  207.000000   207.000000  207.000000  207.000000  207.000000   \n",
      "mean     5.840580    30.028986   36.415459   18.463768   11.942029   \n",
      "std     10.812555    19.144802   20.847606   18.831841   14.706399   \n",
      "min      0.000000     0.000000    0.000000    0.000000    0.000000   \n",
      "25%      0.000000    20.000000   25.000000    0.000000    0.000000   \n",
      "50%      0.000000    30.000000   33.000000   15.000000    5.000000   \n",
      "75%     10.000000    40.000000   50.000000   30.000000   20.000000   \n",
      "max    100.000000   100.000000  100.000000  100.000000   70.000000   \n",
      "\n",
      "           Ind_JS  Ind_Python       Ind_R     Ind_SAS  \n",
      "count  207.000000  207.000000  207.000000  207.000000  \n",
      "mean     6.966184   29.772947   32.434783   18.884058  \n",
      "std     10.030721   17.959816   15.912209   19.137623  \n",
      "min      0.000000    0.000000    0.000000    0.000000  \n",
      "25%      0.000000   20.000000   22.500000    0.000000  \n",
      "50%      0.000000   30.000000   30.000000   15.000000  \n",
      "75%     10.000000   40.000000   40.000000   30.000000  \n",
      "max     50.000000   95.000000   85.000000  100.000000  \n"
     ]
    }
   ],
   "source": [
    "# descriptive statistics for software preference variables\n",
    "print('\\nDescriptive statistics for survey data ---------------')\n",
    "print(software_df.describe())"
   ]
  },
  {
   "cell_type": "code",
   "execution_count": 108,
   "metadata": {},
   "outputs": [
    {
     "data": {
      "text/plain": [
       "My_R           37.125604\n",
       "Prof_R         36.415459\n",
       "Ind_R          32.434783\n",
       "My_Python      31.304348\n",
       "Prof_Python    30.028986\n",
       "Ind_Python     29.772947\n",
       "Ind_SAS        18.884058\n",
       "Prof_SAS       18.463768\n",
       "My_SAS         16.637681\n",
       "Ind_Java       11.942029\n",
       "My_Java        10.135266\n",
       "Prof_Java       9.251208\n",
       "Ind_JS          6.966184\n",
       "Prof_JS         5.840580\n",
       "My_JS           4.797101\n",
       "dtype: float64"
      ]
     },
     "execution_count": 108,
     "metadata": {},
     "output_type": "execute_result"
    }
   ],
   "source": [
    "software_df.mean().sort_values(ascending=False)"
   ]
  },
  {
   "cell_type": "code",
   "execution_count": 168,
   "metadata": {},
   "outputs": [],
   "source": [
    "#D - Labels for Course Interest\n",
    "courseint_df_labels = [\n",
    "    'Python Course Interest',\n",
    "    'Foundations DE Course Interest',\n",
    "    'Analytics App Course Interest',\n",
    "    'Systems Analysis Course Interest'\n",
    "]    \n",
    "\n",
    "#D - Creating a set of scatter plots for course interests for the four courses.\n",
    "#D - Commenting this out because its not needed\n",
    "#for i in range(4):\n",
    "#    for j in range(4):\n",
    "#        if i != j:\n",
    "#            file_title = course_int_df.columns[i] + '_and_' + course_int_df.columns[j]\n",
    "#            plot_title = course_int_df.columns[i] + ' and ' + course_int_df.columns[j]\n",
    "#            fig, axis = plt.subplots()\n",
    "#            axis.set_xlabel(courseint_df_labels[i])\n",
    "#            axis.set_ylabel(courseint_df_labels[j])\n",
    "#            plt.title(plot_title)\n",
    "#            scatter_plot = axis.scatter(course_int_df[course_int_df.columns[i]], \n",
    "#            course_int_df[course_int_df.columns[j]],\n",
    "#            facecolors = 'brown', \n",
    "#            edgecolors = 'red') \n",
    "#            plt.savefig(file_title + '.pdf', \n",
    "#                bbox_inches = 'tight', dpi=None, facecolor='w', edgecolor='b', \n",
    "#                orientation='portrait', papertype=None, format=None, \n",
    "#                transparent=True, pad_inches=0.25, frameon=None)"
   ]
  },
  {
   "cell_type": "code",
   "execution_count": 110,
   "metadata": {},
   "outputs": [
    {
     "data": {
      "text/plain": [
       "<Figure size 432x288 with 0 Axes>"
      ]
     },
     "metadata": {},
     "output_type": "display_data"
    },
    {
     "data": {
      "image/png": "[encoded data removed]",
      "text/plain": [
       "<Figure size 864x864 with 2 Axes>"
      ]
     },
     "metadata": {
      "needs_background": "light"
     },
     "output_type": "display_data"
    }
   ],
   "source": [
    "# examine intercorrelations among software preference variables\n",
    "# with correlation matrix/heat map\n",
    "\n",
    "corr_chart(df_corr = course_int_df)"
   ]
  },
  {
   "cell_type": "code",
   "execution_count": 111,
   "metadata": {},
   "outputs": [
    {
     "name": "stdout",
     "output_type": "stream",
     "text": [
      "\n",
      "Descriptive statistics for Course Interest data ---------------\n",
      "Python_Int              73.529126\n",
      "FoundDE_Int             58.045000\n",
      "Analytics_Int           55.201970\n",
      "System_Analytics_Int    53.630000\n",
      "dtype: float64\n"
     ]
    }
   ],
   "source": [
    "#D - descriptive statistics for Course Interests\n",
    "print('\\nDescriptive statistics for Course Interest data ---------------')\n",
    "print(course_int_df.mean().sort_values(ascending=False))"
   ]
  },
  {
   "cell_type": "code",
   "execution_count": 113,
   "metadata": {},
   "outputs": [
    {
     "name": "stdout",
     "output_type": "stream",
     "text": [
      "\n",
      "Descriptive statistics for courses completed ---------------\n",
      "count    187.000000\n",
      "mean       6.342246\n",
      "std        3.170849\n",
      "min        1.000000\n",
      "25%             NaN\n",
      "50%             NaN\n",
      "75%             NaN\n",
      "max       12.000000\n",
      "Name: Courses_Completed, dtype: float64\n"
     ]
    }
   ],
   "source": [
    "# descriptive statistics for one variable\n",
    "print('\\nDescriptive statistics for courses completed ---------------')\n",
    "print(survey_df['Courses_Completed'].describe(include=[np.number]))"
   ]
  },
  {
   "cell_type": "code",
   "execution_count": 114,
   "metadata": {},
   "outputs": [],
   "source": [
    "# ----------------------------------------------------------\n",
    "# transformation code added with version v005\n",
    "# ----------------------------------------------------------\n",
    "# transformations a la Scikit Learn\n",
    "# documentation at http://scikit-learn.org/stable/auto_examples/\n",
    "#                  preprocessing/plot_all_scaling.html#sphx-glr-auto-\n",
    "#                  examples-preprocessing-plot-all-scaling-py\n",
    "from sklearn.preprocessing import StandardScaler\n",
    "from sklearn.preprocessing import MinMaxScaler\n",
    "\n",
    "# transformations a la Scikit Learn\n",
    "# select variable to examine, eliminating missing data codes\n",
    "# D - This cleanup is necessary to remove noise from the data. \n",
    "# D - Responses that do not have course completed or other course related information do not \n",
    "# D - serve our purpose of finding correlations and patterns between Student Interest \n",
    "# D - and MSDS courses and thus cannot be used to predict Course design.\n",
    "# D - I appended astype(int) to convert the values to integer as I was getting an error \n",
    "# D - while running the next code block.\n",
    "\n",
    "X = survey_df['Courses_Completed'].dropna()\n",
    "#.astype(int)"
   ]
  },
  {
   "cell_type": "code",
   "execution_count": 115,
   "metadata": {},
   "outputs": [],
   "source": [
    "#D - I used the code below to upgrade the statsmodels because I was getting a Type error with X.\n",
    "#!conda uninstall statsmodels --yes\n",
    "#!conda install -c taugspurger statsmodels=0.8.0"
   ]
  },
  {
   "cell_type": "code",
   "execution_count": 116,
   "metadata": {},
   "outputs": [
    {
     "data": {
      "text/plain": [
       "RespondentID\n",
       "5133300037    6.0\n",
       "5132253300    4.0\n",
       "5132096630    7.0\n",
       "5131990362    7.0\n",
       "5131860849    5.0\n",
       "Name: Courses_Completed, dtype: float64"
      ]
     },
     "execution_count": 116,
     "metadata": {},
     "output_type": "execute_result"
    }
   ],
   "source": [
    "# D - Checking the data type.\n",
    "\n",
    "X.head()"
   ]
  },
  {
   "cell_type": "code",
   "execution_count": 117,
   "metadata": {},
   "outputs": [
    {
     "data": {
      "image/png": "[encoded data removed]",
      "text/plain": [
       "<Figure size 432x288 with 1 Axes>"
      ]
     },
     "metadata": {
      "needs_background": "light"
     },
     "output_type": "display_data"
    }
   ],
   "source": [
    "# Seaborn provides a convenient way to show the effects of transformations\n",
    "# on the distribution of values being transformed\n",
    "# Documentation at https://seaborn.pydata.org/generated/seaborn.distplot.html\n",
    "\n",
    "unscaled_fig, ax = plt.subplots()\n",
    "sns.distplot(X).set_title('Unscaled')\n",
    "unscaled_fig.savefig('Transformation-Unscaled' + '.pdf', \n",
    "    bbox_inches = 'tight', dpi=None, facecolor='w', edgecolor='b', \n",
    "    orientation='portrait', papertype=None, format=None, \n",
    "    transparent=True, pad_inches=0.25, frameon=None)"
   ]
  },
  {
   "cell_type": "code",
   "execution_count": 118,
   "metadata": {},
   "outputs": [
    {
     "data": {
      "image/png": "[encoded data removed]",
      "text/plain": [
       "<Figure size 432x288 with 1 Axes>"
      ]
     },
     "metadata": {
      "needs_background": "light"
     },
     "output_type": "display_data"
    }
   ],
   "source": [
    "standard_fig, ax = plt.subplots()\n",
    "sns.distplot(StandardScaler().fit_transform(X.reshape(-1,1))).set_title('StandardScaler')\n",
    "standard_fig.savefig('Transformation-StandardScaler' + '.pdf', \n",
    "    bbox_inches = 'tight', dpi=None, facecolor='w', edgecolor='b', \n",
    "    orientation='portrait', papertype=None, format=None, \n",
    "    transparent=True, pad_inches=0.25, frameon=None)  "
   ]
  },
  {
   "cell_type": "code",
   "execution_count": 119,
   "metadata": {},
   "outputs": [
    {
     "data": {
      "image/png": "[encoded data removed]",
      "text/plain": [
       "<Figure size 432x288 with 1 Axes>"
      ]
     },
     "metadata": {
      "needs_background": "light"
     },
     "output_type": "display_data"
    }
   ],
   "source": [
    "minmax_fig, ax = plt.subplots()\n",
    "sns.distplot(MinMaxScaler().fit_transform(X.reshape(-1,1))).set_title('MinMaxScaler')\n",
    "minmax_fig.savefig('Transformation-MinMaxScaler' + '.pdf', \n",
    "    bbox_inches = 'tight', dpi=None, facecolor='w', edgecolor='b', \n",
    "    orientation='portrait', papertype=None, format=None, \n",
    "    transparent=True, pad_inches=0.25, frameon=None) "
   ]
  },
  {
   "cell_type": "code",
   "execution_count": 120,
   "metadata": {},
   "outputs": [
    {
     "data": {
      "image/png": "[encoded data removed]",
      "text/plain": [
       "<Figure size 432x288 with 1 Axes>"
      ]
     },
     "metadata": {
      "needs_background": "light"
     },
     "output_type": "display_data"
    }
   ],
   "source": [
    "log_fig, ax = plt.subplots()\n",
    "sns.distplot(np.log(X.reshape(-1,1))).set_title('NaturalLog')\n",
    "log_fig.savefig('Transformation-NaturalLog' + '.pdf', \n",
    "    bbox_inches = 'tight', dpi=None, facecolor='w', edgecolor='b', \n",
    "    orientation='portrait', papertype=None, format=None, \n",
    "    transparent=True, pad_inches=0.25, frameon=None)  "
   ]
  },
  {
   "cell_type": "code",
   "execution_count": 131,
   "metadata": {},
   "outputs": [],
   "source": [
    "#D - define subset DataFrame for analysis of courses taken\n",
    "course_taken_df = survey_df.loc[:, 'PREDICT400':'Graduate_Date'].drop(survey_df[survey_df['Graduate_Date'].isnull()].index)"
   ]
  },
  {
   "cell_type": "code",
   "execution_count": 151,
   "metadata": {},
   "outputs": [],
   "source": [
    "course_taken_group = course_taken_df.groupby('Graduate_Date').count()"
   ]
  },
  {
   "cell_type": "code",
   "execution_count": 157,
   "metadata": {},
   "outputs": [
    {
     "data": {
      "text/html": [
       "<div>\n",
       "<table border=\"1\" class=\"dataframe\">\n",
       "  <thead>\n",
       "    <tr style=\"text-align: right;\">\n",
       "      <th></th>\n",
       "      <th>PREDICT400</th>\n",
       "      <th>PREDICT401</th>\n",
       "      <th>PREDICT410</th>\n",
       "      <th>PREDICT411</th>\n",
       "      <th>PREDICT413</th>\n",
       "      <th>PREDICT420</th>\n",
       "      <th>PREDICT422</th>\n",
       "      <th>PREDICT450</th>\n",
       "      <th>PREDICT451</th>\n",
       "      <th>PREDICT452</th>\n",
       "      <th>PREDICT453</th>\n",
       "      <th>PREDICT454</th>\n",
       "      <th>PREDICT455</th>\n",
       "      <th>PREDICT456</th>\n",
       "      <th>PREDICT457</th>\n",
       "      <th>OtherPython</th>\n",
       "      <th>OtherR</th>\n",
       "      <th>OtherSAS</th>\n",
       "      <th>Other</th>\n",
       "    </tr>\n",
       "    <tr>\n",
       "      <th>Graduate_Date</th>\n",
       "      <th></th>\n",
       "      <th></th>\n",
       "      <th></th>\n",
       "      <th></th>\n",
       "      <th></th>\n",
       "      <th></th>\n",
       "      <th></th>\n",
       "      <th></th>\n",
       "      <th></th>\n",
       "      <th></th>\n",
       "      <th></th>\n",
       "      <th></th>\n",
       "      <th></th>\n",
       "      <th></th>\n",
       "      <th></th>\n",
       "      <th></th>\n",
       "      <th></th>\n",
       "      <th></th>\n",
       "      <th></th>\n",
       "    </tr>\n",
       "  </thead>\n",
       "  <tbody>\n",
       "    <tr>\n",
       "      <th>2020 or Later</th>\n",
       "      <td>4</td>\n",
       "      <td>5</td>\n",
       "      <td>1</td>\n",
       "      <td>1</td>\n",
       "      <td>1</td>\n",
       "      <td>1</td>\n",
       "      <td>0</td>\n",
       "      <td>0</td>\n",
       "      <td>0</td>\n",
       "      <td>0</td>\n",
       "      <td>0</td>\n",
       "      <td>0</td>\n",
       "      <td>0</td>\n",
       "      <td>0</td>\n",
       "      <td>0</td>\n",
       "      <td>0</td>\n",
       "      <td>0</td>\n",
       "      <td>0</td>\n",
       "      <td>0</td>\n",
       "    </tr>\n",
       "    <tr>\n",
       "      <th>Fall 2016</th>\n",
       "      <td>5</td>\n",
       "      <td>10</td>\n",
       "      <td>11</td>\n",
       "      <td>10</td>\n",
       "      <td>7</td>\n",
       "      <td>7</td>\n",
       "      <td>6</td>\n",
       "      <td>5</td>\n",
       "      <td>3</td>\n",
       "      <td>2</td>\n",
       "      <td>2</td>\n",
       "      <td>2</td>\n",
       "      <td>5</td>\n",
       "      <td>1</td>\n",
       "      <td>1</td>\n",
       "      <td>1</td>\n",
       "      <td>6</td>\n",
       "      <td>0</td>\n",
       "      <td>4</td>\n",
       "    </tr>\n",
       "    <tr>\n",
       "      <th>Fall 2017</th>\n",
       "      <td>13</td>\n",
       "      <td>13</td>\n",
       "      <td>10</td>\n",
       "      <td>6</td>\n",
       "      <td>3</td>\n",
       "      <td>12</td>\n",
       "      <td>1</td>\n",
       "      <td>0</td>\n",
       "      <td>0</td>\n",
       "      <td>0</td>\n",
       "      <td>1</td>\n",
       "      <td>0</td>\n",
       "      <td>3</td>\n",
       "      <td>0</td>\n",
       "      <td>0</td>\n",
       "      <td>1</td>\n",
       "      <td>0</td>\n",
       "      <td>0</td>\n",
       "      <td>4</td>\n",
       "    </tr>\n",
       "    <tr>\n",
       "      <th>Fall 2018</th>\n",
       "      <td>18</td>\n",
       "      <td>15</td>\n",
       "      <td>12</td>\n",
       "      <td>6</td>\n",
       "      <td>1</td>\n",
       "      <td>8</td>\n",
       "      <td>1</td>\n",
       "      <td>0</td>\n",
       "      <td>0</td>\n",
       "      <td>0</td>\n",
       "      <td>0</td>\n",
       "      <td>0</td>\n",
       "      <td>1</td>\n",
       "      <td>0</td>\n",
       "      <td>0</td>\n",
       "      <td>0</td>\n",
       "      <td>0</td>\n",
       "      <td>0</td>\n",
       "      <td>1</td>\n",
       "    </tr>\n",
       "    <tr>\n",
       "      <th>Fall 2019</th>\n",
       "      <td>3</td>\n",
       "      <td>4</td>\n",
       "      <td>3</td>\n",
       "      <td>1</td>\n",
       "      <td>0</td>\n",
       "      <td>2</td>\n",
       "      <td>0</td>\n",
       "      <td>0</td>\n",
       "      <td>0</td>\n",
       "      <td>0</td>\n",
       "      <td>0</td>\n",
       "      <td>0</td>\n",
       "      <td>1</td>\n",
       "      <td>0</td>\n",
       "      <td>0</td>\n",
       "      <td>0</td>\n",
       "      <td>0</td>\n",
       "      <td>0</td>\n",
       "      <td>0</td>\n",
       "    </tr>\n",
       "    <tr>\n",
       "      <th>Spring 2017</th>\n",
       "      <td>12</td>\n",
       "      <td>18</td>\n",
       "      <td>19</td>\n",
       "      <td>18</td>\n",
       "      <td>9</td>\n",
       "      <td>17</td>\n",
       "      <td>12</td>\n",
       "      <td>4</td>\n",
       "      <td>2</td>\n",
       "      <td>2</td>\n",
       "      <td>1</td>\n",
       "      <td>0</td>\n",
       "      <td>8</td>\n",
       "      <td>3</td>\n",
       "      <td>1</td>\n",
       "      <td>0</td>\n",
       "      <td>0</td>\n",
       "      <td>0</td>\n",
       "      <td>0</td>\n",
       "    </tr>\n",
       "    <tr>\n",
       "      <th>Spring 2018</th>\n",
       "      <td>27</td>\n",
       "      <td>23</td>\n",
       "      <td>22</td>\n",
       "      <td>16</td>\n",
       "      <td>5</td>\n",
       "      <td>18</td>\n",
       "      <td>1</td>\n",
       "      <td>2</td>\n",
       "      <td>0</td>\n",
       "      <td>0</td>\n",
       "      <td>0</td>\n",
       "      <td>0</td>\n",
       "      <td>0</td>\n",
       "      <td>2</td>\n",
       "      <td>1</td>\n",
       "      <td>0</td>\n",
       "      <td>0</td>\n",
       "      <td>0</td>\n",
       "      <td>1</td>\n",
       "    </tr>\n",
       "    <tr>\n",
       "      <th>Spring 2019</th>\n",
       "      <td>9</td>\n",
       "      <td>6</td>\n",
       "      <td>1</td>\n",
       "      <td>0</td>\n",
       "      <td>0</td>\n",
       "      <td>2</td>\n",
       "      <td>0</td>\n",
       "      <td>0</td>\n",
       "      <td>0</td>\n",
       "      <td>0</td>\n",
       "      <td>0</td>\n",
       "      <td>0</td>\n",
       "      <td>0</td>\n",
       "      <td>0</td>\n",
       "      <td>0</td>\n",
       "      <td>0</td>\n",
       "      <td>1</td>\n",
       "      <td>0</td>\n",
       "      <td>1</td>\n",
       "    </tr>\n",
       "    <tr>\n",
       "      <th>Summer 2017</th>\n",
       "      <td>12</td>\n",
       "      <td>14</td>\n",
       "      <td>14</td>\n",
       "      <td>11</td>\n",
       "      <td>6</td>\n",
       "      <td>12</td>\n",
       "      <td>6</td>\n",
       "      <td>1</td>\n",
       "      <td>1</td>\n",
       "      <td>1</td>\n",
       "      <td>3</td>\n",
       "      <td>0</td>\n",
       "      <td>2</td>\n",
       "      <td>0</td>\n",
       "      <td>1</td>\n",
       "      <td>0</td>\n",
       "      <td>1</td>\n",
       "      <td>1</td>\n",
       "      <td>5</td>\n",
       "    </tr>\n",
       "    <tr>\n",
       "      <th>Summer 2018</th>\n",
       "      <td>10</td>\n",
       "      <td>8</td>\n",
       "      <td>7</td>\n",
       "      <td>3</td>\n",
       "      <td>3</td>\n",
       "      <td>7</td>\n",
       "      <td>1</td>\n",
       "      <td>0</td>\n",
       "      <td>0</td>\n",
       "      <td>0</td>\n",
       "      <td>0</td>\n",
       "      <td>0</td>\n",
       "      <td>1</td>\n",
       "      <td>0</td>\n",
       "      <td>0</td>\n",
       "      <td>0</td>\n",
       "      <td>0</td>\n",
       "      <td>0</td>\n",
       "      <td>0</td>\n",
       "    </tr>\n",
       "    <tr>\n",
       "      <th>Summer 2019</th>\n",
       "      <td>2</td>\n",
       "      <td>3</td>\n",
       "      <td>1</td>\n",
       "      <td>1</td>\n",
       "      <td>1</td>\n",
       "      <td>1</td>\n",
       "      <td>1</td>\n",
       "      <td>0</td>\n",
       "      <td>0</td>\n",
       "      <td>1</td>\n",
       "      <td>0</td>\n",
       "      <td>0</td>\n",
       "      <td>1</td>\n",
       "      <td>0</td>\n",
       "      <td>0</td>\n",
       "      <td>0</td>\n",
       "      <td>0</td>\n",
       "      <td>0</td>\n",
       "      <td>0</td>\n",
       "    </tr>\n",
       "    <tr>\n",
       "      <th>Winter 2017</th>\n",
       "      <td>17</td>\n",
       "      <td>22</td>\n",
       "      <td>24</td>\n",
       "      <td>25</td>\n",
       "      <td>20</td>\n",
       "      <td>16</td>\n",
       "      <td>15</td>\n",
       "      <td>3</td>\n",
       "      <td>1</td>\n",
       "      <td>6</td>\n",
       "      <td>4</td>\n",
       "      <td>3</td>\n",
       "      <td>7</td>\n",
       "      <td>0</td>\n",
       "      <td>0</td>\n",
       "      <td>2</td>\n",
       "      <td>3</td>\n",
       "      <td>0</td>\n",
       "      <td>6</td>\n",
       "    </tr>\n",
       "    <tr>\n",
       "      <th>Winter 2018</th>\n",
       "      <td>21</td>\n",
       "      <td>20</td>\n",
       "      <td>15</td>\n",
       "      <td>12</td>\n",
       "      <td>3</td>\n",
       "      <td>17</td>\n",
       "      <td>3</td>\n",
       "      <td>2</td>\n",
       "      <td>0</td>\n",
       "      <td>1</td>\n",
       "      <td>0</td>\n",
       "      <td>0</td>\n",
       "      <td>1</td>\n",
       "      <td>0</td>\n",
       "      <td>0</td>\n",
       "      <td>1</td>\n",
       "      <td>1</td>\n",
       "      <td>1</td>\n",
       "      <td>3</td>\n",
       "    </tr>\n",
       "    <tr>\n",
       "      <th>Winter 2019</th>\n",
       "      <td>10</td>\n",
       "      <td>10</td>\n",
       "      <td>5</td>\n",
       "      <td>3</td>\n",
       "      <td>0</td>\n",
       "      <td>7</td>\n",
       "      <td>1</td>\n",
       "      <td>0</td>\n",
       "      <td>0</td>\n",
       "      <td>0</td>\n",
       "      <td>0</td>\n",
       "      <td>0</td>\n",
       "      <td>0</td>\n",
       "      <td>0</td>\n",
       "      <td>0</td>\n",
       "      <td>0</td>\n",
       "      <td>2</td>\n",
       "      <td>0</td>\n",
       "      <td>1</td>\n",
       "    </tr>\n",
       "  </tbody>\n",
       "</table>\n",
       "</div>"
      ],
      "text/plain": [
       "               PREDICT400  PREDICT401  PREDICT410  PREDICT411  PREDICT413  \\\n",
       "Graduate_Date                                                               \n",
       "2020 or Later           4           5           1           1           1   \n",
       "Fall 2016               5          10          11          10           7   \n",
       "Fall 2017              13          13          10           6           3   \n",
       "Fall 2018              18          15          12           6           1   \n",
       "Fall 2019               3           4           3           1           0   \n",
       "Spring 2017            12          18          19          18           9   \n",
       "Spring 2018            27          23          22          16           5   \n",
       "Spring 2019             9           6           1           0           0   \n",
       "Summer 2017            12          14          14          11           6   \n",
       "Summer 2018            10           8           7           3           3   \n",
       "Summer 2019             2           3           1           1           1   \n",
       "Winter 2017            17          22          24          25          20   \n",
       "Winter 2018            21          20          15          12           3   \n",
       "Winter 2019            10          10           5           3           0   \n",
       "\n",
       "               PREDICT420  PREDICT422  PREDICT450  PREDICT451  PREDICT452  \\\n",
       "Graduate_Date                                                               \n",
       "2020 or Later           1           0           0           0           0   \n",
       "Fall 2016               7           6           5           3           2   \n",
       "Fall 2017              12           1           0           0           0   \n",
       "Fall 2018               8           1           0           0           0   \n",
       "Fall 2019               2           0           0           0           0   \n",
       "Spring 2017            17          12           4           2           2   \n",
       "Spring 2018            18           1           2           0           0   \n",
       "Spring 2019             2           0           0           0           0   \n",
       "Summer 2017            12           6           1           1           1   \n",
       "Summer 2018             7           1           0           0           0   \n",
       "Summer 2019             1           1           0           0           1   \n",
       "Winter 2017            16          15           3           1           6   \n",
       "Winter 2018            17           3           2           0           1   \n",
       "Winter 2019             7           1           0           0           0   \n",
       "\n",
       "               PREDICT453  PREDICT454  PREDICT455  PREDICT456  PREDICT457  \\\n",
       "Graduate_Date                                                               \n",
       "2020 or Later           0           0           0           0           0   \n",
       "Fall 2016               2           2           5           1           1   \n",
       "Fall 2017               1           0           3           0           0   \n",
       "Fall 2018               0           0           1           0           0   \n",
       "Fall 2019               0           0           1           0           0   \n",
       "Spring 2017             1           0           8           3           1   \n",
       "Spring 2018             0           0           0           2           1   \n",
       "Spring 2019             0           0           0           0           0   \n",
       "Summer 2017             3           0           2           0           1   \n",
       "Summer 2018             0           0           1           0           0   \n",
       "Summer 2019             0           0           1           0           0   \n",
       "Winter 2017             4           3           7           0           0   \n",
       "Winter 2018             0           0           1           0           0   \n",
       "Winter 2019             0           0           0           0           0   \n",
       "\n",
       "               OtherPython  OtherR  OtherSAS  Other  \n",
       "Graduate_Date                                        \n",
       "2020 or Later            0       0         0      0  \n",
       "Fall 2016                1       6         0      4  \n",
       "Fall 2017                1       0         0      4  \n",
       "Fall 2018                0       0         0      1  \n",
       "Fall 2019                0       0         0      0  \n",
       "Spring 2017              0       0         0      0  \n",
       "Spring 2018              0       0         0      1  \n",
       "Spring 2019              0       1         0      1  \n",
       "Summer 2017              0       1         1      5  \n",
       "Summer 2018              0       0         0      0  \n",
       "Summer 2019              0       0         0      0  \n",
       "Winter 2017              2       3         0      6  \n",
       "Winter 2018              1       1         1      3  \n",
       "Winter 2019              0       2         0      1  "
      ]
     },
     "execution_count": 157,
     "metadata": {},
     "output_type": "execute_result"
    }
   ],
   "source": [
    "course_taken_group"
   ]
  },
  {
   "cell_type": "code",
   "execution_count": 164,
   "metadata": {},
   "outputs": [
    {
     "name": "stdout",
     "output_type": "stream",
     "text": [
      "\n",
      "Descriptive statistics for Course Taken data ---------------\n",
      "PREDICT400     27\n",
      "PREDICT411     25\n",
      "PREDICT410     24\n",
      "PREDICT401     23\n",
      "PREDICT413     20\n",
      "PREDICT420     18\n",
      "PREDICT422     15\n",
      "PREDICT455      8\n",
      "Other           6\n",
      "OtherR          6\n",
      "PREDICT452      6\n",
      "PREDICT450      5\n",
      "PREDICT453      4\n",
      "PREDICT451      3\n",
      "PREDICT454      3\n",
      "PREDICT456      3\n",
      "OtherPython     2\n",
      "OtherSAS        1\n",
      "PREDICT457      1\n",
      "dtype: int64\n"
     ]
    }
   ],
   "source": [
    "#D - descriptive statistics for Course Taken\n",
    "print('\\nDescriptive statistics for Course Taken data ---------------')\n",
    "print(course_taken_group.max().sort_values(ascending=False))"
   ]
  },
  {
   "cell_type": "code",
   "execution_count": 165,
   "metadata": {},
   "outputs": [
    {
     "name": "stdout",
     "output_type": "stream",
     "text": [
      "\n",
      "Management Question: Learn about current student software preferences ---------------\n",
      "\n",
      "By looking at the correlation map, I think that there is a strong correlation between the choice to learn a language based on industry and professional requirements and the summary stats indicate that student preference range from high to low in the following order R, Python, SAS, Java/Scala/Spark and JavaScript.\n",
      "\n",
      "Management Question: Learn about student interest in potential new courses ---------------\n",
      "\n",
      "By looking at the correlation map, I think that there is a strong correlation between the interests in courses System Analysis and Analytics App. This indicates that people who take either have more chances to take the other course as well. By observing the mean summary stats, we can see that the interests range from high to low in the following order Python Course, Foundations DE Course, Analytics App Course and Systems Analysis Course.\n",
      "\n",
      "Management Question: Guide software and systems planning for current and future courses ---------------\n",
      "\n",
      "The mean survey stat values for all the softwares suggest that R has more industry and professional requirement. Python ranks second on this scale and SAS ranks third. So the future courses should be designed to include R and Python programming rather than SAS.\n",
      "\n",
      "Management Question: Guide data science curriculum planning ---------------\n",
      "\n",
      "After looking at the value count table and max values for course taken data, I think that the interest for Predict  457, 456, 454, 451, 453 and OtherSAS has declined in recent years so they should be revised. The courses like Predict 400, 411, 410, 401, 413, 420 and 422 are more likely to be taken by students.\n"
     ]
    }
   ],
   "source": [
    "print('\\nManagement Question: Learn about current student software preferences ---------------')\n",
    "print('\\nBy looking at the correlation map, I think that there is a strong correlation between the choice to learn a language based on industry and professional requirements and the summary stats indicate that student preference range from high to low in the following order R, Python, SAS, Java/Scala/Spark and JavaScript.')\n",
    "print('\\nManagement Question: Learn about student interest in potential new courses ---------------')\n",
    "print('\\nBy looking at the correlation map, I think that there is a strong correlation between the interests in courses System Analysis and Analytics App. This indicates that people who take either have more chances to take the other course as well. By observing the mean summary stats, we can see that the interests range from high to low in the following order Python Course, Foundations DE Course, Analytics App Course and Systems Analysis Course.')\n",
    "print('\\nManagement Question: Guide software and systems planning for current and future courses ---------------')\n",
    "print('\\nThe mean survey stat values for all the softwares suggest that R has more industry and professional requirement. Python ranks second on this scale and SAS ranks third. So the future courses should be designed to include R and Python programming rather than SAS.')\n",
    "print('\\nManagement Question: Guide data science curriculum planning ---------------')\n",
    "print('\\nAfter looking at the value count table and max values for course taken data, I think that the interest for Predict  457, 456, 454, 451, 453 and OtherSAS has declined in recent years so they should be revised. The courses like Predict 400, 411, 410, 401, 413, 420 and 422 are more likely to be taken by students.')"
   ]
  }
 ],
 "metadata": {
  "anaconda-cloud": {},
  "kernelspec": {
   "display_name": "Python [conda env:Anaconda3]",
   "language": "python",
   "name": "conda-env-Anaconda3-py"
  },
  "language_info": {
   "codemirror_mode": {
    "name": "ipython",
    "version": 3
   },
   "file_extension": ".py",
   "mimetype": "text/x-python",
   "name": "python",
   "nbconvert_exporter": "python",
   "pygments_lexer": "ipython3",
   "version": "3.5.6"
  }
 },
 "nbformat": 4,
 "nbformat_minor": 2
}
