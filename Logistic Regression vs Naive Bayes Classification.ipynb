{
 "cells": [
  {
   "cell_type": "markdown",
   "metadata": {},
   "source": [
    "In this project, I will be creating a classification model taking three features - default, housing, and loan to predict consumer response (binary variable) to the marketing call from the bank. Two classification methods will be used to complete this task:\n",
    "\n",
    "1. Logistic Regression\n",
    "2. Naive Bayes Classification\n",
    "\n",
    "Both methods will be evaluated using area under the ROC curve cross-validation method.\n",
    "\n",
    "Based on the classification results, I will be advising the management about the machine learning method to use for getting guidance for the telephone marketing campaign and suggesting the target audience of the marketing campaign."
   ]
  },
  {
   "cell_type": "markdown",
   "metadata": {},
   "source": [
    "### Data Preparation"
   ]
  },
  {
   "cell_type": "code",
   "execution_count": 1,
   "metadata": {},
   "outputs": [],
   "source": [
    "# Setting the random seed to generate reproducible results\n",
    "\n",
    "RANDOM_SEED = 1"
   ]
  },
  {
   "cell_type": "code",
   "execution_count": 2,
   "metadata": {},
   "outputs": [],
   "source": [
    "# Importing base packages Numpy and Pandas\n",
    "\n",
    "import numpy as np\n",
    "import pandas as pd\n",
    "\n",
    "# Importing warnings filter\n",
    "from warnings import simplefilter\n",
    "\n",
    "# Ignoring all future warnings\n",
    "simplefilter(action='ignore', category=FutureWarning)"
   ]
  },
  {
   "cell_type": "code",
   "execution_count": 3,
   "metadata": {},
   "outputs": [],
   "source": [
    "# Importing bank.csv data into a DataFrame\n",
    "\n",
    "bank = pd.read_csv('bank.csv', sep = ';')"
   ]
  },
  {
   "cell_type": "code",
   "execution_count": 4,
   "metadata": {},
   "outputs": [
    {
     "name": "stdout",
     "output_type": "stream",
     "text": [
      "(4521, 17)\n"
     ]
    }
   ],
   "source": [
    "# Examining the shape - number of rows and columns, of bank DataFrame\n",
    "\n",
    "print(bank.shape)"
   ]
  },
  {
   "cell_type": "code",
   "execution_count": 5,
   "metadata": {},
   "outputs": [
    {
     "name": "stdout",
     "output_type": "stream",
     "text": [
      "   age          job  marital  education default  balance housing loan  \\\n",
      "0   30   unemployed  married    primary      no     1787      no   no   \n",
      "1   33     services  married  secondary      no     4789     yes  yes   \n",
      "2   35   management   single   tertiary      no     1350     yes   no   \n",
      "3   30   management  married   tertiary      no     1476     yes  yes   \n",
      "4   59  blue-collar  married  secondary      no        0     yes   no   \n",
      "\n",
      "    contact  day month  duration  campaign  pdays  previous poutcome  \\\n",
      "0  cellular   19   oct        79         1     -1         0  unknown   \n",
      "1  cellular   11   may       220         1    339         4  failure   \n",
      "2  cellular   16   apr       185         1    330         1  failure   \n",
      "3   unknown    3   jun       199         4     -1         0  unknown   \n",
      "4   unknown    5   may       226         1     -1         0  unknown   \n",
      "\n",
      "  response  \n",
      "0       no  \n",
      "1       no  \n",
      "2       no  \n",
      "3       no  \n",
      "4       no  \n"
     ]
    }
   ],
   "source": [
    "# Dropping Null values as we do not want to work with incomplete data\n",
    "\n",
    "print(bank.dropna().head().to_string(line_width=78))"
   ]
  },
  {
   "cell_type": "code",
   "execution_count": 6,
   "metadata": {},
   "outputs": [
    {
     "name": "stdout",
     "output_type": "stream",
     "text": [
      "(4521, 17)\n"
     ]
    }
   ],
   "source": [
    "# Shape of input data after dropping data with missing values\n",
    "\n",
    "print(bank.shape)"
   ]
  },
  {
   "cell_type": "markdown",
   "metadata": {},
   "source": [
    "#### Note: The shape of bank DataFrame did not change with dropna(), this means that there were no rows with missing data."
   ]
  },
  {
   "cell_type": "code",
   "execution_count": 7,
   "metadata": {},
   "outputs": [
    {
     "data": {
      "text/plain": [
       "['age',\n",
       " 'job',\n",
       " 'marital',\n",
       " 'education',\n",
       " 'default',\n",
       " 'balance',\n",
       " 'housing',\n",
       " 'loan',\n",
       " 'contact',\n",
       " 'day',\n",
       " 'month',\n",
       " 'duration',\n",
       " 'campaign',\n",
       " 'pdays',\n",
       " 'previous',\n",
       " 'poutcome',\n",
       " 'response']"
      ]
     },
     "execution_count": 7,
     "metadata": {},
     "output_type": "execute_result"
    }
   ],
   "source": [
    "# Displaying the list of column names\n",
    "\n",
    "list(bank.columns.values)"
   ]
  },
  {
   "cell_type": "code",
   "execution_count": 8,
   "metadata": {},
   "outputs": [
    {
     "name": "stdout",
     "output_type": "stream",
     "text": [
      "   age          job  marital  education default  balance housing loan  \\\n",
      "0   30   unemployed  married    primary      no     1787      no   no   \n",
      "1   33     services  married  secondary      no     4789     yes  yes   \n",
      "2   35   management   single   tertiary      no     1350     yes   no   \n",
      "3   30   management  married   tertiary      no     1476     yes  yes   \n",
      "4   59  blue-collar  married  secondary      no        0     yes   no   \n",
      "\n",
      "    contact  day month  duration  campaign  pdays  previous poutcome  \\\n",
      "0  cellular   19   oct        79         1     -1         0  unknown   \n",
      "1  cellular   11   may       220         1    339         4  failure   \n",
      "2  cellular   16   apr       185         1    330         1  failure   \n",
      "3   unknown    3   jun       199         4     -1         0  unknown   \n",
      "4   unknown    5   may       226         1     -1         0  unknown   \n",
      "\n",
      "  response  \n",
      "0       no  \n",
      "1       no  \n",
      "2       no  \n",
      "3       no  \n",
      "4       no  \n"
     ]
    }
   ],
   "source": [
    "# Displaying the first 10 records of the DataFrame\n",
    "\n",
    "print(bank.head().to_string(line_width=78))"
   ]
  },
  {
   "cell_type": "code",
   "execution_count": 9,
   "metadata": {},
   "outputs": [
    {
     "name": "stdout",
     "output_type": "stream",
     "text": [
      "(4521, 4)\n"
     ]
    }
   ],
   "source": [
    "# Mapping function that converts text no/yes to integer 0/1\n",
    "\n",
    "convert_to_binary = {'no' : 0, 'yes' : 1}\n",
    "\n",
    "# Mapping values in a binary variable for having credit in default\n",
    "\n",
    "default = bank['default'].map(convert_to_binary)\n",
    "\n",
    "# Mapping values in a binary variable for having a mortgage or housing loan\n",
    "\n",
    "housing = bank['housing'].map(convert_to_binary)\n",
    "\n",
    "# Mapping values in a binary variable for having a personal loan\n",
    "\n",
    "loan = bank['loan'].map(convert_to_binary)\n",
    "\n",
    "# Defining binary variable for response variable using the Mapping function\n",
    "\n",
    "response = bank['response'].map(convert_to_binary)\n",
    "\n",
    "# Creating an array using three explanatory and one response variables.\n",
    "# Transposing the data using .T to restructure the array as per our requirement\n",
    "\n",
    "model_data = np.array([np.array(default), np.array(housing), np.array(loan), \n",
    "    np.array(response)]).T\n",
    "\n",
    "# Shape of the model data\n",
    "\n",
    "print(model_data.shape)"
   ]
  },
  {
   "cell_type": "markdown",
   "metadata": {},
   "source": [
    "### Classification of Data using Logistic Regression and Naive Bayes Classification"
   ]
  },
  {
   "cell_type": "code",
   "execution_count": 10,
   "metadata": {},
   "outputs": [],
   "source": [
    "# Specifying the set of classifiers being evaluated\n",
    "\n",
    "from sklearn.naive_bayes import BernoulliNB\n",
    "from sklearn.linear_model import LogisticRegression"
   ]
  },
  {
   "cell_type": "code",
   "execution_count": 11,
   "metadata": {},
   "outputs": [
    {
     "name": "stdout",
     "output_type": "stream",
     "text": [
      "\n",
      "Data dimensions: (4521, 4)\n"
     ]
    }
   ],
   "source": [
    "# Shape of the additive model X input and y response\n",
    "\n",
    "print('\\nData dimensions:', model_data.shape)"
   ]
  },
  {
   "cell_type": "markdown",
   "metadata": {},
   "source": [
    "#### Training and Test Datasets"
   ]
  },
  {
   "cell_type": "code",
   "execution_count": 12,
   "metadata": {},
   "outputs": [
    {
     "name": "stdout",
     "output_type": "stream",
     "text": [
      "my_X_test:\n",
      " [[1 1 1]\n",
      " [1 1 0]\n",
      " [1 0 1]\n",
      " [1 0 0]\n",
      " [0 1 1]\n",
      " [0 1 0]\n",
      " [0 0 1]\n",
      " [0 0 0]]\n",
      "\n",
      "X_train:\n",
      " [[0 0 0]\n",
      " [0 1 1]\n",
      " [0 1 0]\n",
      " ...\n",
      " [0 0 0]\n",
      " [0 0 0]\n",
      " [0 1 1]]\n",
      "\n",
      "y_train:\n",
      " [0 0 0 ... 0 0 0]\n",
      "\n",
      "y_train unique value counts:\n",
      " {0: 4000, 1: 521}\n"
     ]
    }
   ],
   "source": [
    "# Creating arrays with test cases\n",
    "\n",
    "my_default = np.array([1, 1, 1, 1, 0, 0, 0, 0], np.int32)\n",
    "my_housing = np.array([1, 1, 0, 0, 1, 1, 0, 0], np.int32)\n",
    "my_loan = np.array([1, 0, 1, 0, 1, 0, 1, 0], np.int32)\n",
    "\n",
    "# Reshaping the array as per our requirements and creating the test dataset\n",
    "\n",
    "my_X_test = np.vstack([my_default, my_housing, my_loan]).T\n",
    "\n",
    "# Displaying contents of the Test dataset\n",
    "\n",
    "print(\"my_X_test:\\n\", my_X_test)\n",
    "\n",
    "# X_train is the data(feature) array containing training data\n",
    "# y_train is the target values for the training data\n",
    "\n",
    "X_train = model_data[:, 0:model_data.shape[1]-1]\n",
    "y_train = model_data[:, model_data.shape[1]-1]\n",
    "\n",
    "# Displaying contents of the Training datasets\n",
    "\n",
    "print(\"\\nX_train:\\n\", X_train)\n",
    "print(\"\\ny_train:\\n\", y_train)\n",
    "\n",
    "# Displaying value counts for the Training dataset\n",
    "# to see the distribution of responses\n",
    "\n",
    "uniqTr, countsTr = np.unique(y_train, return_counts=True)\n",
    "print(\"\\ny_train unique value counts:\\n\", dict(zip(uniqTr, countsTr)))"
   ]
  },
  {
   "cell_type": "markdown",
   "metadata": {},
   "source": [
    "#### Logistic Regression"
   ]
  },
  {
   "cell_type": "code",
   "execution_count": 13,
   "metadata": {},
   "outputs": [
    {
     "name": "stdout",
     "output_type": "stream",
     "text": [
      "\n",
      "\n",
      "Logistic regression model predictions for test cases:\n",
      "   default  housing  loan  predict_NO  predict_YES  prediction\n",
      "0      1.0      1.0   1.0    0.945729     0.054271         0.0\n",
      "1      1.0      1.0   0.0    0.892349     0.107651         0.0\n",
      "2      1.0      0.0   1.0    0.900786     0.099214         0.0\n",
      "3      1.0      0.0   0.0    0.811988     0.188012         0.0\n",
      "4      0.0      1.0   1.0    0.953277     0.046723         0.0\n",
      "5      0.0      1.0   0.0    0.906588     0.093412         0.0\n",
      "6      0.0      0.0   1.0    0.914016     0.085984         0.0\n",
      "7      0.0      0.0   0.0    0.834890     0.165110         0.0\n",
      "\n",
      "\n",
      "Overall training set accuracy: 0.8847600088476001\n"
     ]
    }
   ],
   "source": [
    "# Fit logistic regression to full data set\n",
    "# clf is the LogisticRegression function object\n",
    "\n",
    "clf = LogisticRegression()\n",
    "\n",
    "clf.fit(X_train, y_train)\n",
    "\n",
    "# Predicting specific test cases using the test dataset created above\n",
    "\n",
    "y_my_test_proba = clf.predict_proba(my_X_test)\n",
    "\n",
    "y_my_test_predict = clf.predict(my_X_test)\n",
    "\n",
    "# Create DataFrame for displaying test cases and predicted probabilities\n",
    "\n",
    "my_targeting_df = pd.DataFrame(np.hstack([my_X_test, y_my_test_proba,\n",
    "                                          np.vstack(y_my_test_predict)]))\n",
    "\n",
    "# Giving labels to columns in the DataFrame\n",
    "\n",
    "my_targeting_df.columns = ['default', 'housing', 'loan', \n",
    "                           'predict_NO', 'predict_YES', 'prediction']\n",
    "\n",
    "# Displaying the prediction DataFrame\n",
    "\n",
    "print('\\n\\nLogistic regression model predictions for test cases:')\n",
    "print(my_targeting_df)\n",
    "\n",
    "# Testing the accuracy of the Training Dataset using Logistic Regression model\n",
    "\n",
    "print('\\n\\nOverall training set accuracy:', clf.score(X_train, y_train))"
   ]
  },
  {
   "cell_type": "markdown",
   "metadata": {},
   "source": [
    "#### Note: All the predictions for this test set are for a Negative response. This could be because our Training dataset is skewed with 4000 negative responses and 521 positive responses."
   ]
  },
  {
   "cell_type": "markdown",
   "metadata": {},
   "source": [
    "#### Naive Bayes Classification"
   ]
  },
  {
   "cell_type": "code",
   "execution_count": 14,
   "metadata": {},
   "outputs": [
    {
     "name": "stdout",
     "output_type": "stream",
     "text": [
      "\n",
      "\n",
      "Naive Bayes Classification model predictions for test cases:\n",
      "   default  housing  loan  predict_NO  predict_YES  prediction\n",
      "0      1.0      1.0   1.0    0.947911     0.052089         0.0\n",
      "1      1.0      1.0   0.0    0.896225     0.103775         0.0\n",
      "2      1.0      0.0   1.0    0.904384     0.095616         0.0\n",
      "3      1.0      0.0   0.0    0.817810     0.182190         0.0\n",
      "4      0.0      1.0   1.0    0.953537     0.046463         0.0\n",
      "5      0.0      1.0   0.0    0.906885     0.093115         0.0\n",
      "6      0.0      0.0   1.0    0.914286     0.085714         0.0\n",
      "7      0.0      0.0   0.0    0.835042     0.164958         0.0\n",
      "\n",
      "\n",
      "Overall training set accuracy: 0.8847600088476001\n"
     ]
    }
   ],
   "source": [
    "# Fit Naive Bayes Classification to full data set\n",
    "# clfNB is the BernoulliNB Naive Bayes function object\n",
    "# X_train is the data(feature) array containing training data (defined above)\n",
    "# y_train is the target values for the training data (defined above)\n",
    "\n",
    "clfNB = BernoulliNB()\n",
    "clfNB.fit(X_train, y_train)\n",
    "\n",
    "# Predicting specific test cases using the test dataset created above\n",
    "\n",
    "y_my_test_probaNB = clfNB.predict_proba(my_X_test)\n",
    "\n",
    "y_my_test_predictNB = clfNB.predict(my_X_test)\n",
    "\n",
    "# Create DataFrame for displaying test cases and predicted probabilities\n",
    "\n",
    "my_targetingNB_df = pd.DataFrame(np.hstack([my_X_test, y_my_test_probaNB,\n",
    "                                            np.vstack(y_my_test_predictNB)]))\n",
    "\n",
    "# Giving labels to columns in the DataFrame\n",
    "\n",
    "my_targetingNB_df.columns = ['default', 'housing', 'loan', \n",
    "                           'predict_NO', 'predict_YES', 'prediction']\n",
    "\n",
    "# Displaying the prediction DataFrame\n",
    "\n",
    "print('\\n\\nNaive Bayes Classification model predictions for test cases:')\n",
    "print(my_targetingNB_df)\n",
    "\n",
    "# Testing the accuracy of the Training Dataset using Naive Bayes model\n",
    "\n",
    "print('\\n\\nOverall training set accuracy:', clfNB.score(X_train, y_train))"
   ]
  },
  {
   "cell_type": "markdown",
   "metadata": {},
   "source": [
    "#### Note: All the predictions for this test set are for a Negative response similar to Logistic Regression. This could be because our Training dataset is skewed with 4000 negative responses and 521 positive responses."
   ]
  },
  {
   "cell_type": "markdown",
   "metadata": {},
   "source": [
    "Based on the Overall training set accuracy, which is same for both the models, it can be said that either the training dataset is too small to generate an observable difference OR the dataset in not diverse enough OR we need to include more features into the model. Let's do cross-validation to test the accuracy of both models."
   ]
  },
  {
   "cell_type": "markdown",
   "metadata": {},
   "source": [
    "### Cross-Validation of the Models using Area under the ROC Curve"
   ]
  },
  {
   "cell_type": "code",
   "execution_count": 15,
   "metadata": {},
   "outputs": [],
   "source": [
    "# Specifying the cross-validation ROC scoring code \n",
    "# from Scikit Learn documentation\n",
    "\n",
    "from sklearn.metrics import roc_auc_score\n",
    "\n",
    "# Specifying the k-fold cross-validation design\n",
    "\n",
    "from sklearn.model_selection import KFold\n",
    "\n",
    "# Setting the names list containing names of the Classification methods\n",
    "names = [\"Naive_Bayes\", \"Logistic_Regression\"]\n",
    "\n",
    "# Setting classifiers list with Naive Bayes and \n",
    "# Logistic Regression classifier functions\n",
    "classifiers = [BernoulliNB(alpha=1.0, binarize=0.5, \n",
    "                           class_prior = [0.5, 0.5], fit_prior=False), \n",
    "               LogisticRegression()]\n",
    "\n",
    "# Specifying the folds for validation - 10-fold cross-validation\n",
    "N_FOLDS = 10\n",
    "\n",
    "# Setting up numpy array for storing results\n",
    "cv_results = np.zeros((N_FOLDS, len(names)))\n",
    "\n",
    "# Setting the KFold object using number of folds and \n",
    "# random seed set previously\n",
    "\n",
    "kf = KFold(n_splits = N_FOLDS, shuffle=False, random_state = RANDOM_SEED)"
   ]
  },
  {
   "cell_type": "code",
   "execution_count": 16,
   "metadata": {},
   "outputs": [
    {
     "name": "stdout",
     "output_type": "stream",
     "text": [
      "\n",
      "Fold index: 0 ------------------------------------------\n",
      "Method Name: Naive_Bayes\n",
      "Area under ROC curve: 0.5878522062732588\n",
      "Method Name: Logistic_Regression\n",
      "Area under ROC curve: 0.5878522062732588\n",
      "\n",
      "Fold index: 1 ------------------------------------------\n",
      "Method Name: Naive_Bayes\n",
      "Area under ROC curve: 0.633727778967659\n",
      "Method Name: Logistic_Regression\n",
      "Area under ROC curve: 0.633727778967659\n",
      "\n",
      "Fold index: 2 ------------------------------------------\n",
      "Method Name: Naive_Bayes\n",
      "Area under ROC curve: 0.6575354454752319\n",
      "Method Name: Logistic_Regression\n",
      "Area under ROC curve: 0.6575354454752319\n",
      "\n",
      "Fold index: 3 ------------------------------------------\n",
      "Method Name: Naive_Bayes\n",
      "Area under ROC curve: 0.6373879576644552\n",
      "Method Name: Logistic_Regression\n",
      "Area under ROC curve: 0.6355648959335594\n",
      "\n",
      "Fold index: 4 ------------------------------------------\n",
      "Method Name: Naive_Bayes\n",
      "Area under ROC curve: 0.5743993962517295\n",
      "Method Name: Logistic_Regression\n",
      "Area under ROC curve: 0.5743993962517295\n",
      "\n",
      "Fold index: 5 ------------------------------------------\n",
      "Method Name: Naive_Bayes\n",
      "Area under ROC curve: 0.5746839950151327\n",
      "Method Name: Logistic_Regression\n",
      "Area under ROC curve: 0.5842383241350662\n",
      "\n",
      "Fold index: 6 ------------------------------------------\n",
      "Method Name: Naive_Bayes\n",
      "Area under ROC curve: 0.5625116322352502\n",
      "Method Name: Logistic_Regression\n",
      "Area under ROC curve: 0.5625116322352502\n",
      "\n",
      "Fold index: 7 ------------------------------------------\n",
      "Method Name: Naive_Bayes\n",
      "Area under ROC curve: 0.7311441622103387\n",
      "Method Name: Logistic_Regression\n",
      "Area under ROC curve: 0.7311441622103387\n",
      "\n",
      "Fold index: 8 ------------------------------------------\n",
      "Method Name: Naive_Bayes\n",
      "Area under ROC curve: 0.5735328888258382\n",
      "Method Name: Logistic_Regression\n",
      "Area under ROC curve: 0.5735328888258382\n",
      "\n",
      "Fold index: 9 ------------------------------------------\n",
      "Method Name: Naive_Bayes\n",
      "Area under ROC curve: 0.5778268860493612\n",
      "Method Name: Logistic_Regression\n",
      "Area under ROC curve: 0.5768204095921582\n",
      "\n",
      "----------------------------------------------\n",
      "Average results from 10-fold cross-validation\n",
      "\n",
      "Method                 Area under ROC Curve\n",
      "Naive_Bayes            0.611060\n",
      "Logistic_Regression    0.611733\n",
      "dtype: float64\n"
     ]
    },
    {
     "data": {
      "text/html": [
       "<div>\n",
       "<table border=\"1\" class=\"dataframe\">\n",
       "  <thead>\n",
       "    <tr style=\"text-align: right;\">\n",
       "      <th></th>\n",
       "      <th>Naive_Bayes</th>\n",
       "      <th>Logistic_Regression</th>\n",
       "    </tr>\n",
       "  </thead>\n",
       "  <tbody>\n",
       "    <tr>\n",
       "      <th>0</th>\n",
       "      <td>0.587852</td>\n",
       "      <td>0.587852</td>\n",
       "    </tr>\n",
       "    <tr>\n",
       "      <th>1</th>\n",
       "      <td>0.633728</td>\n",
       "      <td>0.633728</td>\n",
       "    </tr>\n",
       "    <tr>\n",
       "      <th>2</th>\n",
       "      <td>0.657535</td>\n",
       "      <td>0.657535</td>\n",
       "    </tr>\n",
       "    <tr>\n",
       "      <th>3</th>\n",
       "      <td>0.637388</td>\n",
       "      <td>0.635565</td>\n",
       "    </tr>\n",
       "    <tr>\n",
       "      <th>4</th>\n",
       "      <td>0.574399</td>\n",
       "      <td>0.574399</td>\n",
       "    </tr>\n",
       "    <tr>\n",
       "      <th>5</th>\n",
       "      <td>0.574684</td>\n",
       "      <td>0.584238</td>\n",
       "    </tr>\n",
       "    <tr>\n",
       "      <th>6</th>\n",
       "      <td>0.562512</td>\n",
       "      <td>0.562512</td>\n",
       "    </tr>\n",
       "    <tr>\n",
       "      <th>7</th>\n",
       "      <td>0.731144</td>\n",
       "      <td>0.731144</td>\n",
       "    </tr>\n",
       "    <tr>\n",
       "      <th>8</th>\n",
       "      <td>0.573533</td>\n",
       "      <td>0.573533</td>\n",
       "    </tr>\n",
       "    <tr>\n",
       "      <th>9</th>\n",
       "      <td>0.577827</td>\n",
       "      <td>0.576820</td>\n",
       "    </tr>\n",
       "  </tbody>\n",
       "</table>\n",
       "</div>"
      ],
      "text/plain": [
       "   Naive_Bayes  Logistic_Regression\n",
       "0     0.587852             0.587852\n",
       "1     0.633728             0.633728\n",
       "2     0.657535             0.657535\n",
       "3     0.637388             0.635565\n",
       "4     0.574399             0.574399\n",
       "5     0.574684             0.584238\n",
       "6     0.562512             0.562512\n",
       "7     0.731144             0.731144\n",
       "8     0.573533             0.573533\n",
       "9     0.577827             0.576820"
      ]
     },
     "execution_count": 16,
     "metadata": {},
     "output_type": "execute_result"
    }
   ],
   "source": [
    "# Checking the splitting process by looking at fold observation counts\n",
    "# Initializing the fold count and looping through the splits of model data\n",
    "# The variable index_for_fold will be used as the results array index\n",
    "\n",
    "index_for_fold = 0  \n",
    "\n",
    "# This loop will run 10 times, once for each fold\n",
    "\n",
    "for train_index, test_index in kf.split(model_data):\n",
    "    print('\\nFold index:', index_for_fold,\n",
    "          '------------------------------------------')\n",
    "\n",
    "    # Generating Training and Test datasets using train and \n",
    "    # test indexes generated from KFold Split\n",
    "    # 0:model_data.shape[1]-1 slices for explanatory variables\n",
    "    # model_data.shape[1]-1 is the index for the response variable   \n",
    "\n",
    "    X_train = model_data[train_index, 0:model_data.shape[1]-1]\n",
    "    X_test = model_data[test_index, 0:model_data.shape[1]-1]\n",
    "    y_train = model_data[train_index, model_data.shape[1]-1]\n",
    "    y_test = model_data[test_index, model_data.shape[1]-1]   \n",
    " \n",
    "    # Initializing the method count and looping through the methods \n",
    "    # (Linear Regression and Naive Bayes)\n",
    "    # This loop will run twice, once for each method, per fold\n",
    "    # The variable index_for_method will be used as results array index\n",
    "    \n",
    "    index_for_method = 0\n",
    "    for name, clf in zip(names, classifiers):\n",
    "    \n",
    "        # Fitting the classifier method on the training set for this fold\n",
    "        \n",
    "        clf.fit(X_train, y_train)  \n",
    "        \n",
    "        # Evaluating the test set for this fold by predicting values \n",
    "        # for Test dataset\n",
    "        \n",
    "        y_test_predict = clf.predict_proba(X_test)\n",
    "        \n",
    "        # Getting the ROC_AUC for test dataset\n",
    "        \n",
    "        fold_method_result = roc_auc_score(y_test, y_test_predict[:,1]) \n",
    "        \n",
    "        # Displaying the Name of the method and AUC ROC for this fold\n",
    "        \n",
    "        print('Method Name:', name)\n",
    "        print('Area under ROC curve:', fold_method_result)\n",
    "        \n",
    "        # Storing the result in an array having fold X method \n",
    "        # dimension (10 X 2)\n",
    "        \n",
    "        cv_results[index_for_fold, index_for_method] = fold_method_result\n",
    "        \n",
    "        # Incrementing method number array index\n",
    "        \n",
    "        index_for_method += 1\n",
    "        \n",
    "    # Incrementing fold number array index\n",
    "  \n",
    "    index_for_fold += 1\n",
    "\n",
    "# Generating a DataFrame using the results array created by KFold methods\n",
    "\n",
    "cv_results_df = pd.DataFrame(cv_results)\n",
    "\n",
    "# Setting the column names for the DataFrame\n",
    "\n",
    "cv_results_df.columns = names\n",
    "\n",
    "# Displaying results from the results DataFrame\n",
    "\n",
    "print('\\n----------------------------------------------')\n",
    "print('Average results from ', N_FOLDS, '-fold cross-validation\\n',\n",
    "      '\\nMethod                 Area under ROC Curve', sep = '')     \n",
    "print(cv_results_df.mean())\n",
    "\n",
    "cv_results_df"
   ]
  },
  {
   "cell_type": "markdown",
   "metadata": {},
   "source": [
    "The similarity of ROC AUC scores for both the models can be due to various factors:\n",
    "\n",
    "1. The training dataset is too small to generate an observable difference.\n",
    "2. The dataset in not diverse enough (the training dataset had 4000 negative responses and 521 positive responses).\n",
    "3. We need to include more features into the model.\n",
    "\n",
    "Based on the test results and average of the 10-Fold cross-validation, I think Logistic Regression method performed slightly better than the Naive Bayes method so the management should consider using the Logistic Regression method.\n",
    "\n",
    "Both models predicted that the following groups are more likely than others to give a positive response (Probability > 10%) for the telephone marketing campaign:\n",
    "\n",
    "1. People having Credit in Default, no Housing Loan and no Personal Loan.\n",
    "2. People not having Credit in Default, no Housing Loan and no Personal Loan.\n",
    "3. People having Credit in Default and a Housing Loan but no Personal Loan."
   ]
  }
 ],
 "metadata": {
  "anaconda-cloud": {},
  "kernelspec": {
   "display_name": "Python [conda env:Anaconda3]",
   "language": "python",
   "name": "conda-env-Anaconda3-py"
  },
  "language_info": {
   "codemirror_mode": {
    "name": "ipython",
    "version": 3
   },
   "file_extension": ".py",
   "mimetype": "text/x-python",
   "name": "python",
   "nbconvert_exporter": "python",
   "pygments_lexer": "ipython3",
   "version": "3.5.6"
  }
 },
 "nbformat": 4,
 "nbformat_minor": 2
}
